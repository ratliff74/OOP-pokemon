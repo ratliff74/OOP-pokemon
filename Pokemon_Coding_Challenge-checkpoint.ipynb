{
 "cells": [
  {
   "cell_type": "markdown",
   "metadata": {
    "id": "fK2SjXgoq_Tp"
   },
   "source": [
    "Take a look at PokeAPI: <a href=\"https://pokeapi.co/\">https://pokeapi.co/</a>.\n",
    "\n",
    "On this website you will see an API simulator. Trying any combination of correct possible server requests should yield you a successful result in the scrollable area. In this scrollable area is an exact server response you will get if you sent a response to it.\n",
    "\n",
    "Click on the `Documentation` tab, then click on v2. On the next page you'll see a bunch of words that seemingly make no sense. Just like with any API, there is documentation showing you how to use it. API documentation, by nature, is very wordy, overwhelming and almost never straightforward. You will find very few APIs that have simple documentation. Once you start to become a mid-senior level engineer, the little details in documentation will make all the difference in the quality of your results. Most people find API documentation difficult to navigate at first. Don't worry, it's normal.\n",
    "\n",
    "That being said, familiarize yourself with everything in the documentation and try to skim as much as possible to get a feel for where everything is before proceeding. "
   ]
  },
  {
   "cell_type": "markdown",
   "metadata": {
    "id": "MzLYqqcXq_Ty"
   },
   "source": [
    "<strong>`Objective`</strong>: There are several main Pokemon class types: Fire, Water, Grass, Rock, Electric. Your application will use PokeAPI to build your own API program. Compile a list of 30 total Pokemon that identify as the aforementioned class types. Each category will hold a list of Pokemon and their personal attributes and some statistics as follows. Make this program an object-oriented program:\n",
    "\n",
    "**Note** How you compile the list of Pokemon is entirely up to you. "
   ]
  },
  {
   "cell_type": "code",
   "execution_count": 1,
   "metadata": {
    "id": "3y72fjpJq_T0"
   },
   "outputs": [
    {
     "data": {
      "text/plain": [
       "{'Electric': {'characters': [{'name': 'Pikachu',\n",
       "    'height': 4,\n",
       "    'weight': 60,\n",
       "    'stats': {'health (hp)': 35, 'attack': 55, 'defense': 40, 'speed': 90},\n",
       "    'abilities': [{'name': 'lightning-rod'}, {'name': 'static'}]}],\n",
       "  'statistics': {'average height': 55.0,\n",
       "   'average weight': 55.0,\n",
       "   'average health': 55.0,\n",
       "   'average attack': 55.0,\n",
       "   'average defense': 55.0,\n",
       "   'average speed': 55.0}},\n",
       " 'Water': {'characters': [{Ellipsis}], 'statistics': {Ellipsis}}}"
      ]
     },
     "execution_count": 1,
     "metadata": {},
     "output_type": "execute_result"
    }
   ],
   "source": [
    "{\n",
    "    \"Electric\": {\n",
    "        \"characters\": [\n",
    "            {\n",
    "                \"name\": \"Pikachu\",\n",
    "                \"height\": 4,\n",
    "                \"weight\": 60,\n",
    "                \"stats\": {\n",
    "                    \"health (hp)\": 35,\n",
    "                    \"attack\": 55,\n",
    "                    \"defense\": 40,\n",
    "                    \"speed\": 90\n",
    "                },\n",
    "                \"abilities\": [\n",
    "                    {\n",
    "                        \"name\": \"lightning-rod\"\n",
    "                    },\n",
    "                    {\n",
    "                        \"name\": \"static\"\n",
    "                    }\n",
    "                ]\n",
    "            }\n",
    "        ],\n",
    "        \"statistics\": {\n",
    "            \"average height\": 55.0,\n",
    "            \"average weight\": 55.0,\n",
    "            \"average health\": 55.0,\n",
    "            \"average attack\": 55.0,\n",
    "            \"average defense\": 55.0,\n",
    "            \"average speed\": 55.0\n",
    "        }\n",
    "    },\n",
    "    \"Water\": {\n",
    "        \"characters\": [\n",
    "            { ... }\n",
    "        ],\n",
    "        \"statistics\": { ... }\n",
    "    }\n",
    "}"
   ]
  }
 ],
 "metadata": {
  "colab": {
   "name": "Pokemon Coding Challenge.ipynb",
   "provenance": []
  },
  "kernelspec": {
   "display_name": "Python 3 (ipykernel)",
   "language": "python",
   "name": "python3"
  },
  "language_info": {
   "codemirror_mode": {
    "name": "ipython",
    "version": 3
   },
   "file_extension": ".py",
   "mimetype": "text/x-python",
   "name": "python",
   "nbconvert_exporter": "python",
   "pygments_lexer": "ipython3",
   "version": "3.9.12"
  }
 },
 "nbformat": 4,
 "nbformat_minor": 1
}
